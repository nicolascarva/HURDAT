{
  "nbformat": 4,
  "nbformat_minor": 0,
  "metadata": {
    "colab": {
      "name": "Hurdat.ipynb",
      "provenance": [],
      "collapsed_sections": [],
      "authorship_tag": "ABX9TyN1spTGNeKyLSKwK9ZUHALD",
      "include_colab_link": true
    },
    "kernelspec": {
      "name": "python3",
      "display_name": "Python 3"
    }
  },
  "cells": [
    {
      "cell_type": "markdown",
      "metadata": {
        "id": "view-in-github",
        "colab_type": "text"
      },
      "source": [
        "<a href=\"https://colab.research.google.com/github/nicolascarva/HURDAT/blob/main/Hurdat.ipynb\" target=\"_parent\"><img src=\"https://colab.research.google.com/assets/colab-badge.svg\" alt=\"Open In Colab\"/></a>"
      ]
    },
    {
      "cell_type": "code",
      "metadata": {
        "id": "OqYOmEA_58dx"
      },
      "source": [
        "\r\n",
        "import pandas as pd\r\n",
        "import numpy as np\r\n",
        "url='https://raw.githubusercontent.com/nicolascarva/HURDAT/main/hurdat2-1851-2019-052520.csv'\r\n",
        "\r\n"
      ],
      "execution_count": 67,
      "outputs": []
    },
    {
      "cell_type": "markdown",
      "metadata": {
        "id": "U0hk8Fp5VD5Q"
      },
      "source": [
        "PDF to data information: https://www.aoml.noaa.gov/hrd/hurdat/hurdat2-format.pdf"
      ]
    },
    {
      "cell_type": "markdown",
      "metadata": {
        "id": "8v_S8yq-YyON"
      },
      "source": [
        "#Data Wrangling:"
      ]
    },
    {
      "cell_type": "markdown",
      "metadata": {
        "id": "adjDI-aP1uip"
      },
      "source": [
        "###Data consists of one row with information identifying hurricane (Primary Row) and subsequent rows with information known about the hurricane at specific date &  time (Data Rows) - up until the next Primary Row."
      ]
    },
    {
      "cell_type": "markdown",
      "metadata": {
        "id": "xomjrIW62SXQ"
      },
      "source": [
        "###We'll add a column with the hurricane id and name concatenated, this will be our unique identifier; we'll fill all subsequent rows with the same identifier (id-name), up until the next Primary Row. We'll also add a column to tag data rows to be dropped later. Invalid values for windspeed (-99) and pressure (-999) will be replaced by NaN"
      ]
    },
    {
      "cell_type": "code",
      "metadata": {
        "colab": {
          "base_uri": "https://localhost:8080/",
          "height": 676
        },
        "id": "0BcBVtWJ7IQV",
        "outputId": "a09e7865-0e73-4ea4-a103-86ac493dd9e3"
      },
      "source": [
        "df=pd.read_csv(url, names=['id', 'time', 'record_identifier','status','latitude','longitude','max_sust_wind', 'min_press',])\r\n",
        "#Add Unique identifier (id-name) column\r\n",
        "df['id-name']=(df['id']*df['max_sust_wind'].isnull()+df['max_sust_wind'].isnull()*df['time'])\r\n",
        "df.loc[(df['id-name']==''),'id-name']=np.NaN #Set Data Rows in id-name columns as NaN to be filled in subsequent step\r\n",
        "\r\n",
        "\r\n",
        "u_hur_=df['id-name'].value_counts().sum() # of unique hurricanes in dataset.\r\n",
        "print(u_hur_)\r\n",
        "df.head(20)"
      ],
      "execution_count": 68,
      "outputs": [
        {
          "output_type": "stream",
          "text": [
            "1893\n"
          ],
          "name": "stdout"
        },
        {
          "output_type": "execute_result",
          "data": {
            "text/html": [
              "<div>\n",
              "<style scoped>\n",
              "    .dataframe tbody tr th:only-of-type {\n",
              "        vertical-align: middle;\n",
              "    }\n",
              "\n",
              "    .dataframe tbody tr th {\n",
              "        vertical-align: top;\n",
              "    }\n",
              "\n",
              "    .dataframe thead th {\n",
              "        text-align: right;\n",
              "    }\n",
              "</style>\n",
              "<table border=\"1\" class=\"dataframe\">\n",
              "  <thead>\n",
              "    <tr style=\"text-align: right;\">\n",
              "      <th></th>\n",
              "      <th>id</th>\n",
              "      <th>time</th>\n",
              "      <th>record_identifier</th>\n",
              "      <th>status</th>\n",
              "      <th>latitude</th>\n",
              "      <th>longitude</th>\n",
              "      <th>max_sust_wind</th>\n",
              "      <th>min_press</th>\n",
              "      <th>id-name</th>\n",
              "    </tr>\n",
              "  </thead>\n",
              "  <tbody>\n",
              "    <tr>\n",
              "      <th>0</th>\n",
              "      <td>AL011851</td>\n",
              "      <td>UNNAMED</td>\n",
              "      <td>14</td>\n",
              "      <td>NaN</td>\n",
              "      <td>NaN</td>\n",
              "      <td>NaN</td>\n",
              "      <td>NaN</td>\n",
              "      <td>NaN</td>\n",
              "      <td>AL011851            UNNAMED</td>\n",
              "    </tr>\n",
              "    <tr>\n",
              "      <th>1</th>\n",
              "      <td>18510625</td>\n",
              "      <td>0000</td>\n",
              "      <td></td>\n",
              "      <td>HU</td>\n",
              "      <td>28.0N</td>\n",
              "      <td>94.8W</td>\n",
              "      <td>80.0</td>\n",
              "      <td>-999.0</td>\n",
              "      <td>NaN</td>\n",
              "    </tr>\n",
              "    <tr>\n",
              "      <th>2</th>\n",
              "      <td>18510625</td>\n",
              "      <td>0600</td>\n",
              "      <td></td>\n",
              "      <td>HU</td>\n",
              "      <td>28.0N</td>\n",
              "      <td>95.4W</td>\n",
              "      <td>80.0</td>\n",
              "      <td>-999.0</td>\n",
              "      <td>NaN</td>\n",
              "    </tr>\n",
              "    <tr>\n",
              "      <th>3</th>\n",
              "      <td>18510625</td>\n",
              "      <td>1200</td>\n",
              "      <td></td>\n",
              "      <td>HU</td>\n",
              "      <td>28.0N</td>\n",
              "      <td>96.0W</td>\n",
              "      <td>80.0</td>\n",
              "      <td>-999.0</td>\n",
              "      <td>NaN</td>\n",
              "    </tr>\n",
              "    <tr>\n",
              "      <th>4</th>\n",
              "      <td>18510625</td>\n",
              "      <td>1800</td>\n",
              "      <td></td>\n",
              "      <td>HU</td>\n",
              "      <td>28.1N</td>\n",
              "      <td>96.5W</td>\n",
              "      <td>80.0</td>\n",
              "      <td>-999.0</td>\n",
              "      <td>NaN</td>\n",
              "    </tr>\n",
              "    <tr>\n",
              "      <th>5</th>\n",
              "      <td>18510625</td>\n",
              "      <td>2100</td>\n",
              "      <td>L</td>\n",
              "      <td>HU</td>\n",
              "      <td>28.2N</td>\n",
              "      <td>96.8W</td>\n",
              "      <td>80.0</td>\n",
              "      <td>-999.0</td>\n",
              "      <td>NaN</td>\n",
              "    </tr>\n",
              "    <tr>\n",
              "      <th>6</th>\n",
              "      <td>18510626</td>\n",
              "      <td>0000</td>\n",
              "      <td></td>\n",
              "      <td>HU</td>\n",
              "      <td>28.2N</td>\n",
              "      <td>97.0W</td>\n",
              "      <td>70.0</td>\n",
              "      <td>-999.0</td>\n",
              "      <td>NaN</td>\n",
              "    </tr>\n",
              "    <tr>\n",
              "      <th>7</th>\n",
              "      <td>18510626</td>\n",
              "      <td>0600</td>\n",
              "      <td></td>\n",
              "      <td>TS</td>\n",
              "      <td>28.3N</td>\n",
              "      <td>97.6W</td>\n",
              "      <td>60.0</td>\n",
              "      <td>-999.0</td>\n",
              "      <td>NaN</td>\n",
              "    </tr>\n",
              "    <tr>\n",
              "      <th>8</th>\n",
              "      <td>18510626</td>\n",
              "      <td>1200</td>\n",
              "      <td></td>\n",
              "      <td>TS</td>\n",
              "      <td>28.4N</td>\n",
              "      <td>98.3W</td>\n",
              "      <td>60.0</td>\n",
              "      <td>-999.0</td>\n",
              "      <td>NaN</td>\n",
              "    </tr>\n",
              "    <tr>\n",
              "      <th>9</th>\n",
              "      <td>18510626</td>\n",
              "      <td>1800</td>\n",
              "      <td></td>\n",
              "      <td>TS</td>\n",
              "      <td>28.6N</td>\n",
              "      <td>98.9W</td>\n",
              "      <td>50.0</td>\n",
              "      <td>-999.0</td>\n",
              "      <td>NaN</td>\n",
              "    </tr>\n",
              "    <tr>\n",
              "      <th>10</th>\n",
              "      <td>18510627</td>\n",
              "      <td>0000</td>\n",
              "      <td></td>\n",
              "      <td>TS</td>\n",
              "      <td>29.0N</td>\n",
              "      <td>99.4W</td>\n",
              "      <td>50.0</td>\n",
              "      <td>-999.0</td>\n",
              "      <td>NaN</td>\n",
              "    </tr>\n",
              "    <tr>\n",
              "      <th>11</th>\n",
              "      <td>18510627</td>\n",
              "      <td>0600</td>\n",
              "      <td></td>\n",
              "      <td>TS</td>\n",
              "      <td>29.5N</td>\n",
              "      <td>99.8W</td>\n",
              "      <td>40.0</td>\n",
              "      <td>-999.0</td>\n",
              "      <td>NaN</td>\n",
              "    </tr>\n",
              "    <tr>\n",
              "      <th>12</th>\n",
              "      <td>18510627</td>\n",
              "      <td>1200</td>\n",
              "      <td></td>\n",
              "      <td>TS</td>\n",
              "      <td>30.0N</td>\n",
              "      <td>100.0W</td>\n",
              "      <td>40.0</td>\n",
              "      <td>-999.0</td>\n",
              "      <td>NaN</td>\n",
              "    </tr>\n",
              "    <tr>\n",
              "      <th>13</th>\n",
              "      <td>18510627</td>\n",
              "      <td>1800</td>\n",
              "      <td></td>\n",
              "      <td>TS</td>\n",
              "      <td>30.5N</td>\n",
              "      <td>100.1W</td>\n",
              "      <td>40.0</td>\n",
              "      <td>-999.0</td>\n",
              "      <td>NaN</td>\n",
              "    </tr>\n",
              "    <tr>\n",
              "      <th>14</th>\n",
              "      <td>18510628</td>\n",
              "      <td>0000</td>\n",
              "      <td></td>\n",
              "      <td>TS</td>\n",
              "      <td>31.0N</td>\n",
              "      <td>100.2W</td>\n",
              "      <td>40.0</td>\n",
              "      <td>-999.0</td>\n",
              "      <td>NaN</td>\n",
              "    </tr>\n",
              "    <tr>\n",
              "      <th>15</th>\n",
              "      <td>AL021851</td>\n",
              "      <td>UNNAMED</td>\n",
              "      <td>1</td>\n",
              "      <td>NaN</td>\n",
              "      <td>NaN</td>\n",
              "      <td>NaN</td>\n",
              "      <td>NaN</td>\n",
              "      <td>NaN</td>\n",
              "      <td>AL021851            UNNAMED</td>\n",
              "    </tr>\n",
              "    <tr>\n",
              "      <th>16</th>\n",
              "      <td>18510705</td>\n",
              "      <td>1200</td>\n",
              "      <td></td>\n",
              "      <td>HU</td>\n",
              "      <td>22.2N</td>\n",
              "      <td>97.6W</td>\n",
              "      <td>80.0</td>\n",
              "      <td>-999.0</td>\n",
              "      <td>NaN</td>\n",
              "    </tr>\n",
              "    <tr>\n",
              "      <th>17</th>\n",
              "      <td>AL031851</td>\n",
              "      <td>UNNAMED</td>\n",
              "      <td>1</td>\n",
              "      <td>NaN</td>\n",
              "      <td>NaN</td>\n",
              "      <td>NaN</td>\n",
              "      <td>NaN</td>\n",
              "      <td>NaN</td>\n",
              "      <td>AL031851            UNNAMED</td>\n",
              "    </tr>\n",
              "    <tr>\n",
              "      <th>18</th>\n",
              "      <td>18510710</td>\n",
              "      <td>1200</td>\n",
              "      <td></td>\n",
              "      <td>TS</td>\n",
              "      <td>12.0N</td>\n",
              "      <td>60.0W</td>\n",
              "      <td>50.0</td>\n",
              "      <td>-999.0</td>\n",
              "      <td>NaN</td>\n",
              "    </tr>\n",
              "    <tr>\n",
              "      <th>19</th>\n",
              "      <td>AL041851</td>\n",
              "      <td>UNNAMED</td>\n",
              "      <td>49</td>\n",
              "      <td>NaN</td>\n",
              "      <td>NaN</td>\n",
              "      <td>NaN</td>\n",
              "      <td>NaN</td>\n",
              "      <td>NaN</td>\n",
              "      <td>AL041851            UNNAMED</td>\n",
              "    </tr>\n",
              "  </tbody>\n",
              "</table>\n",
              "</div>"
            ],
            "text/plain": [
              "          id                 time  ... min_press                      id-name\n",
              "0   AL011851              UNNAMED  ...       NaN  AL011851            UNNAMED\n",
              "1   18510625                 0000  ...    -999.0                          NaN\n",
              "2   18510625                 0600  ...    -999.0                          NaN\n",
              "3   18510625                 1200  ...    -999.0                          NaN\n",
              "4   18510625                 1800  ...    -999.0                          NaN\n",
              "5   18510625                 2100  ...    -999.0                          NaN\n",
              "6   18510626                 0000  ...    -999.0                          NaN\n",
              "7   18510626                 0600  ...    -999.0                          NaN\n",
              "8   18510626                 1200  ...    -999.0                          NaN\n",
              "9   18510626                 1800  ...    -999.0                          NaN\n",
              "10  18510627                 0000  ...    -999.0                          NaN\n",
              "11  18510627                 0600  ...    -999.0                          NaN\n",
              "12  18510627                 1200  ...    -999.0                          NaN\n",
              "13  18510627                 1800  ...    -999.0                          NaN\n",
              "14  18510628                 0000  ...    -999.0                          NaN\n",
              "15  AL021851              UNNAMED  ...       NaN  AL021851            UNNAMED\n",
              "16  18510705                 1200  ...    -999.0                          NaN\n",
              "17  AL031851              UNNAMED  ...       NaN  AL031851            UNNAMED\n",
              "18  18510710                 1200  ...    -999.0                          NaN\n",
              "19  AL041851              UNNAMED  ...       NaN  AL041851            UNNAMED\n",
              "\n",
              "[20 rows x 9 columns]"
            ]
          },
          "metadata": {
            "tags": []
          },
          "execution_count": 68
        }
      ]
    },
    {
      "cell_type": "code",
      "metadata": {
        "id": "ZFnP6FPY_KtD",
        "colab": {
          "base_uri": "https://localhost:8080/"
        },
        "outputId": "d47277f5-143f-427b-bf69-0e192c719099"
      },
      "source": [
        "\r\n",
        "df.loc[(df['min_press']==-999, 'min_press')]=np.NaN #Set unknown minimum pressure as NaN\r\n",
        "df.loc[(df['max_sust_wind']==-99.0, 'max_sust_wind')]=np.NaN #Set unknown maximum sustained wind as NaN\r\n",
        "print('Datapoints with negative number for wind: ',df.loc[df['max_sust_wind']<0].value_counts().sum())\r\n",
        "print('Datapoints with negative number for pressure: ',df.loc[df['min_press']<0].value_counts().sum())"
      ],
      "execution_count": 69,
      "outputs": [
        {
          "output_type": "stream",
          "text": [
            "Datapoints with negative number for wind:  0\n",
            "Datapoints with negative number for pressure:  0\n"
          ],
          "name": "stdout"
        }
      ]
    },
    {
      "cell_type": "code",
      "metadata": {
        "id": "Chb8Mxy0ra2j",
        "colab": {
          "base_uri": "https://localhost:8080/"
        },
        "outputId": "46d00119-71ae-4898-e74f-5106096f4723"
      },
      "source": [
        "df['drop_']=df['id-name'] # Add column to tag rows to be dropped later\r\n",
        "df['id-name'].fillna(method='ffill',inplace=True) #Fill id-name column\r\n",
        "pd.set_option('display.max_rows', 200) #Allow the display of more rows when needed\r\n",
        "print('Number of unique hurricanes: ', len(df['id-name'].value_counts()))"
      ],
      "execution_count": 70,
      "outputs": [
        {
          "output_type": "stream",
          "text": [
            "Number of unique hurricanes:  1893\n"
          ],
          "name": "stdout"
        }
      ]
    },
    {
      "cell_type": "markdown",
      "metadata": {
        "id": "Y1iuIzgiZwoJ"
      },
      "source": [
        "###Tagging hurricanes which made landfall at some point during their recorded history (1 for landfall, 0 for no landfall), and recording the windspeed at landfall."
      ]
    },
    {
      "cell_type": "code",
      "metadata": {
        "colab": {
          "base_uri": "https://localhost:8080/"
        },
        "id": "n_2YPZYxraVo",
        "outputId": "bf086182-9910-4c52-8669-0de498299440"
      },
      "source": [
        "#Adding lf column if storm makes landfall (1 for landfall, 0 for no landfall)\r\n",
        "for i in range (len(df)):\r\n",
        "  df['record_identifier'][i]=df['record_identifier'][i].strip()\r\n",
        "\r\n",
        "df.loc[df['record_identifier']=='L',['lf']]=1 #Tag hurricanes that made landfall with a 1 (to be grouped later)\r\n",
        "df.loc[df['record_identifier']!='L',['lf']]=0\r\n",
        "df['wind_speed_lf']=df['lf']*df['max_sust_wind'] #Record windspeed at landfal\r\n",
        "df['wind_speed_lf']=df['wind_speed_lf'].replace(0, np.nan)  #Replace 0 with NaN\r\n",
        "print('')\r\n",
        "print('Number of hurricanes that made landfall: ', len(df[df['lf']==1]))"
      ],
      "execution_count": 71,
      "outputs": [
        {
          "output_type": "stream",
          "text": [
            "/usr/local/lib/python3.6/dist-packages/ipykernel_launcher.py:3: SettingWithCopyWarning: \n",
            "A value is trying to be set on a copy of a slice from a DataFrame\n",
            "\n",
            "See the caveats in the documentation: https://pandas.pydata.org/pandas-docs/stable/user_guide/indexing.html#returning-a-view-versus-a-copy\n",
            "  This is separate from the ipykernel package so we can avoid doing imports until\n"
          ],
          "name": "stderr"
        },
        {
          "output_type": "stream",
          "text": [
            "\n",
            "Number of hurricanes that made landfall:  1016\n"
          ],
          "name": "stdout"
        }
      ]
    },
    {
      "cell_type": "markdown",
      "metadata": {
        "id": "BFs092DZbqK3"
      },
      "source": [
        "##Now we'll create a dataframe with each unique hurricane and information about decade it occured, maximum wind speed and minimum pressure recorded, whether they made landfall and the windspeed at landfall. We will not use mean or median speed for individual hurricanes because it is highly dependent on the number of observations, as well as when the observations were taken for each hurricane (i.e. a hurricane whose observations were taken at the tail end of it's lifecycle will significantly lower mean and median wind speeds)."
      ]
    },
    {
      "cell_type": "markdown",
      "metadata": {
        "id": "U8cixGc0dMeS"
      },
      "source": [
        "First we'll create Dataframes with the information about each hurricane"
      ]
    },
    {
      "cell_type": "code",
      "metadata": {
        "colab": {
          "base_uri": "https://localhost:8080/"
        },
        "id": "fMneR6HHv8zR",
        "outputId": "90975806-a367-4cb9-ffd7-9bd4dfeb3500"
      },
      "source": [
        "#Create dataframe with max wind speed, mean wind speed, minimum pressure, mean pressure, landfall status,  of each hurricane\r\n",
        "max_speed=df.groupby(['id-name'], sort=None)['max_sust_wind'].max()\r\n",
        "max_speed=pd.DataFrame(max_speed)\r\n",
        "max_speed.reset_index(inplace=True)\r\n",
        "max_speed.rename(columns={\"max_sust_wind\": \"max_wind\"}, inplace=True)\r\n",
        "# print('Max Speed reached: ', max_speed)\r\n",
        "max_speed.loc[max_speed['max_wind']<0]\r\n",
        "\r\n",
        "\r\n",
        "min_pressure=df.groupby(['id-name'], sort=None)['min_press'].min()\r\n",
        "min_pressure=pd.DataFrame(min_pressure)\r\n",
        "min_pressure.reset_index(inplace=True)\r\n",
        "# print('Minimum Pressure reached: ', min_pressure)\r\n",
        "\r\n",
        "\r\n",
        "lf=df.groupby(['id-name'], sort=None)['lf'].max()\r\n",
        "lf=pd.DataFrame(lf)\r\n",
        "lf.reset_index(inplace=True)\r\n",
        "# print('Landfall status: ', lf)\r\n",
        "# lf.head()\r\n",
        "\r\n",
        "\r\n",
        "ws_lf=df.groupby(['id-name'], sort=None)['wind_speed_lf'].mean()\r\n",
        "ws_lf=pd.DataFrame(ws_lf)\r\n",
        "ws_lf.reset_index(inplace=True)\r\n",
        "\r\n",
        "print('Number of hurricanes that made landfall: ', len(df[df['lf']==1]))\r\n"
      ],
      "execution_count": 72,
      "outputs": [
        {
          "output_type": "stream",
          "text": [
            "Number of hurricanes that made landfall:  1016\n"
          ],
          "name": "stdout"
        }
      ]
    },
    {
      "cell_type": "markdown",
      "metadata": {
        "id": "6Ubc1xX5dgFE"
      },
      "source": [
        "We'll create the new dataframe and call it df_hur"
      ]
    },
    {
      "cell_type": "code",
      "metadata": {
        "colab": {
          "base_uri": "https://localhost:8080/",
          "height": 1000
        },
        "id": "GilubyK9hMEf",
        "outputId": "242fee16-847c-4488-8042-e9052d81070c"
      },
      "source": [
        "#drop information rows to keep unique hurricanes\r\n",
        "df_hur=df.dropna(subset=['drop_'])\r\n",
        "df_hur.drop(columns=['status','latitude','longitude', 'drop_', 'record_identifier','max_sust_wind',\t'min_press', 'lf', 'wind_speed_lf'], inplace=True)\r\n",
        "\r\n",
        "df_hur.rename(columns={\"time\": \"Name\"}, inplace=True)\r\n",
        "\r\n",
        "\r\n",
        "#Add year column\r\n",
        "df_hur['year']=df_hur['id'].str[-4:] #Year can be deduced from the last 4 characters of the string in the 'id' column.\r\n",
        "df_hur.reset_index() \r\n",
        "df_hur['year'] = pd.DatetimeIndex(pd.to_datetime(df_hur['year'])).year #Change year format to integer\r\n",
        "\r\n",
        "#Add decade column 185 = 1850's 199=1990's, etc.\r\n",
        "df_hur['dec']=df_hur['year'].div(10).astype(int)\r\n",
        "\r\n",
        "#Add max speed column\r\n",
        "df_hur=pd.merge(df_hur, max_speed, on=['id-name'])\r\n",
        "\r\n",
        "\r\n",
        "#Add min press column\r\n",
        "df_hur=pd.merge(df_hur, min_pressure, on=['id-name'])\r\n",
        "\r\n",
        "\r\n",
        "#Add lf column\r\n",
        "df_hur=pd.merge(df_hur, lf, on=['id-name'])\r\n",
        "\r\n",
        "#Add ws_lf column\r\n",
        "df_hur=pd.merge(df_hur, ws_lf, on=['id-name'])\r\n",
        "df_hur['wind_speed_lf']=round(df_hur['wind_speed_lf'].astype(float),0)\r\n",
        "df_hur.tail(45)"
      ],
      "execution_count": 163,
      "outputs": [
        {
          "output_type": "stream",
          "text": [
            "/usr/local/lib/python3.6/dist-packages/pandas/core/frame.py:4174: SettingWithCopyWarning: \n",
            "A value is trying to be set on a copy of a slice from a DataFrame\n",
            "\n",
            "See the caveats in the documentation: https://pandas.pydata.org/pandas-docs/stable/user_guide/indexing.html#returning-a-view-versus-a-copy\n",
            "  errors=errors,\n",
            "/usr/local/lib/python3.6/dist-packages/pandas/core/frame.py:4308: SettingWithCopyWarning: \n",
            "A value is trying to be set on a copy of a slice from a DataFrame\n",
            "\n",
            "See the caveats in the documentation: https://pandas.pydata.org/pandas-docs/stable/user_guide/indexing.html#returning-a-view-versus-a-copy\n",
            "  errors=errors,\n",
            "/usr/local/lib/python3.6/dist-packages/ipykernel_launcher.py:9: SettingWithCopyWarning: \n",
            "A value is trying to be set on a copy of a slice from a DataFrame.\n",
            "Try using .loc[row_indexer,col_indexer] = value instead\n",
            "\n",
            "See the caveats in the documentation: https://pandas.pydata.org/pandas-docs/stable/user_guide/indexing.html#returning-a-view-versus-a-copy\n",
            "  if __name__ == '__main__':\n",
            "/usr/local/lib/python3.6/dist-packages/ipykernel_launcher.py:11: SettingWithCopyWarning: \n",
            "A value is trying to be set on a copy of a slice from a DataFrame.\n",
            "Try using .loc[row_indexer,col_indexer] = value instead\n",
            "\n",
            "See the caveats in the documentation: https://pandas.pydata.org/pandas-docs/stable/user_guide/indexing.html#returning-a-view-versus-a-copy\n",
            "  # This is added back by InteractiveShellApp.init_path()\n",
            "/usr/local/lib/python3.6/dist-packages/ipykernel_launcher.py:14: SettingWithCopyWarning: \n",
            "A value is trying to be set on a copy of a slice from a DataFrame.\n",
            "Try using .loc[row_indexer,col_indexer] = value instead\n",
            "\n",
            "See the caveats in the documentation: https://pandas.pydata.org/pandas-docs/stable/user_guide/indexing.html#returning-a-view-versus-a-copy\n",
            "  \n"
          ],
          "name": "stderr"
        },
        {
          "output_type": "execute_result",
          "data": {
            "text/html": [
              "<div>\n",
              "<style scoped>\n",
              "    .dataframe tbody tr th:only-of-type {\n",
              "        vertical-align: middle;\n",
              "    }\n",
              "\n",
              "    .dataframe tbody tr th {\n",
              "        vertical-align: top;\n",
              "    }\n",
              "\n",
              "    .dataframe thead th {\n",
              "        text-align: right;\n",
              "    }\n",
              "</style>\n",
              "<table border=\"1\" class=\"dataframe\">\n",
              "  <thead>\n",
              "    <tr style=\"text-align: right;\">\n",
              "      <th></th>\n",
              "      <th>id</th>\n",
              "      <th>Name</th>\n",
              "      <th>id-name</th>\n",
              "      <th>year</th>\n",
              "      <th>dec</th>\n",
              "      <th>max_wind</th>\n",
              "      <th>min_press</th>\n",
              "      <th>lf</th>\n",
              "      <th>wind_speed_lf</th>\n",
              "    </tr>\n",
              "  </thead>\n",
              "  <tbody>\n",
              "    <tr>\n",
              "      <th>1848</th>\n",
              "      <td>AL112017</td>\n",
              "      <td>IRMA</td>\n",
              "      <td>AL112017               IRMA</td>\n",
              "      <td>2017</td>\n",
              "      <td>201</td>\n",
              "      <td>155.0</td>\n",
              "      <td>914.0</td>\n",
              "      <td>1.0</td>\n",
              "      <td>137.0</td>\n",
              "    </tr>\n",
              "    <tr>\n",
              "      <th>1849</th>\n",
              "      <td>AL122017</td>\n",
              "      <td>JOSE</td>\n",
              "      <td>AL122017               JOSE</td>\n",
              "      <td>2017</td>\n",
              "      <td>201</td>\n",
              "      <td>135.0</td>\n",
              "      <td>938.0</td>\n",
              "      <td>0.0</td>\n",
              "      <td>NaN</td>\n",
              "    </tr>\n",
              "    <tr>\n",
              "      <th>1850</th>\n",
              "      <td>AL132017</td>\n",
              "      <td>KATIA</td>\n",
              "      <td>AL132017              KATIA</td>\n",
              "      <td>2017</td>\n",
              "      <td>201</td>\n",
              "      <td>90.0</td>\n",
              "      <td>972.0</td>\n",
              "      <td>1.0</td>\n",
              "      <td>65.0</td>\n",
              "    </tr>\n",
              "    <tr>\n",
              "      <th>1851</th>\n",
              "      <td>AL142017</td>\n",
              "      <td>LEE</td>\n",
              "      <td>AL142017                LEE</td>\n",
              "      <td>2017</td>\n",
              "      <td>201</td>\n",
              "      <td>100.0</td>\n",
              "      <td>962.0</td>\n",
              "      <td>0.0</td>\n",
              "      <td>NaN</td>\n",
              "    </tr>\n",
              "    <tr>\n",
              "      <th>1852</th>\n",
              "      <td>AL152017</td>\n",
              "      <td>MARIA</td>\n",
              "      <td>AL152017              MARIA</td>\n",
              "      <td>2017</td>\n",
              "      <td>201</td>\n",
              "      <td>150.0</td>\n",
              "      <td>908.0</td>\n",
              "      <td>1.0</td>\n",
              "      <td>140.0</td>\n",
              "    </tr>\n",
              "    <tr>\n",
              "      <th>1853</th>\n",
              "      <td>AL162017</td>\n",
              "      <td>NATE</td>\n",
              "      <td>AL162017               NATE</td>\n",
              "      <td>2017</td>\n",
              "      <td>201</td>\n",
              "      <td>80.0</td>\n",
              "      <td>981.0</td>\n",
              "      <td>1.0</td>\n",
              "      <td>58.0</td>\n",
              "    </tr>\n",
              "    <tr>\n",
              "      <th>1854</th>\n",
              "      <td>AL172017</td>\n",
              "      <td>OPHELIA</td>\n",
              "      <td>AL172017            OPHELIA</td>\n",
              "      <td>2017</td>\n",
              "      <td>201</td>\n",
              "      <td>100.0</td>\n",
              "      <td>957.0</td>\n",
              "      <td>1.0</td>\n",
              "      <td>70.0</td>\n",
              "    </tr>\n",
              "    <tr>\n",
              "      <th>1855</th>\n",
              "      <td>AL182017</td>\n",
              "      <td>PHILIPPE</td>\n",
              "      <td>AL182017           PHILIPPE</td>\n",
              "      <td>2017</td>\n",
              "      <td>201</td>\n",
              "      <td>35.0</td>\n",
              "      <td>1000.0</td>\n",
              "      <td>1.0</td>\n",
              "      <td>35.0</td>\n",
              "    </tr>\n",
              "    <tr>\n",
              "      <th>1856</th>\n",
              "      <td>AL192017</td>\n",
              "      <td>RINA</td>\n",
              "      <td>AL192017               RINA</td>\n",
              "      <td>2017</td>\n",
              "      <td>201</td>\n",
              "      <td>50.0</td>\n",
              "      <td>991.0</td>\n",
              "      <td>0.0</td>\n",
              "      <td>NaN</td>\n",
              "    </tr>\n",
              "    <tr>\n",
              "      <th>1857</th>\n",
              "      <td>AL012018</td>\n",
              "      <td>ALBERTO</td>\n",
              "      <td>AL012018            ALBERTO</td>\n",
              "      <td>2018</td>\n",
              "      <td>201</td>\n",
              "      <td>55.0</td>\n",
              "      <td>990.0</td>\n",
              "      <td>1.0</td>\n",
              "      <td>40.0</td>\n",
              "    </tr>\n",
              "    <tr>\n",
              "      <th>1858</th>\n",
              "      <td>AL022018</td>\n",
              "      <td>BERYL</td>\n",
              "      <td>AL022018              BERYL</td>\n",
              "      <td>2018</td>\n",
              "      <td>201</td>\n",
              "      <td>70.0</td>\n",
              "      <td>991.0</td>\n",
              "      <td>0.0</td>\n",
              "      <td>NaN</td>\n",
              "    </tr>\n",
              "    <tr>\n",
              "      <th>1859</th>\n",
              "      <td>AL032018</td>\n",
              "      <td>CHRIS</td>\n",
              "      <td>AL032018              CHRIS</td>\n",
              "      <td>2018</td>\n",
              "      <td>201</td>\n",
              "      <td>90.0</td>\n",
              "      <td>969.0</td>\n",
              "      <td>0.0</td>\n",
              "      <td>NaN</td>\n",
              "    </tr>\n",
              "    <tr>\n",
              "      <th>1860</th>\n",
              "      <td>AL042018</td>\n",
              "      <td>DEBBY</td>\n",
              "      <td>AL042018              DEBBY</td>\n",
              "      <td>2018</td>\n",
              "      <td>201</td>\n",
              "      <td>45.0</td>\n",
              "      <td>998.0</td>\n",
              "      <td>0.0</td>\n",
              "      <td>NaN</td>\n",
              "    </tr>\n",
              "    <tr>\n",
              "      <th>1861</th>\n",
              "      <td>AL052018</td>\n",
              "      <td>ERNESTO</td>\n",
              "      <td>AL052018            ERNESTO</td>\n",
              "      <td>2018</td>\n",
              "      <td>201</td>\n",
              "      <td>40.0</td>\n",
              "      <td>999.0</td>\n",
              "      <td>0.0</td>\n",
              "      <td>NaN</td>\n",
              "    </tr>\n",
              "    <tr>\n",
              "      <th>1862</th>\n",
              "      <td>AL062018</td>\n",
              "      <td>FLORENCE</td>\n",
              "      <td>AL062018           FLORENCE</td>\n",
              "      <td>2018</td>\n",
              "      <td>201</td>\n",
              "      <td>130.0</td>\n",
              "      <td>937.0</td>\n",
              "      <td>1.0</td>\n",
              "      <td>80.0</td>\n",
              "    </tr>\n",
              "    <tr>\n",
              "      <th>1863</th>\n",
              "      <td>AL072018</td>\n",
              "      <td>GORDON</td>\n",
              "      <td>AL072018             GORDON</td>\n",
              "      <td>2018</td>\n",
              "      <td>201</td>\n",
              "      <td>60.0</td>\n",
              "      <td>996.0</td>\n",
              "      <td>1.0</td>\n",
              "      <td>50.0</td>\n",
              "    </tr>\n",
              "    <tr>\n",
              "      <th>1864</th>\n",
              "      <td>AL082018</td>\n",
              "      <td>HELENE</td>\n",
              "      <td>AL082018             HELENE</td>\n",
              "      <td>2018</td>\n",
              "      <td>201</td>\n",
              "      <td>95.0</td>\n",
              "      <td>967.0</td>\n",
              "      <td>0.0</td>\n",
              "      <td>NaN</td>\n",
              "    </tr>\n",
              "    <tr>\n",
              "      <th>1865</th>\n",
              "      <td>AL092018</td>\n",
              "      <td>ISAAC</td>\n",
              "      <td>AL092018              ISAAC</td>\n",
              "      <td>2018</td>\n",
              "      <td>201</td>\n",
              "      <td>65.0</td>\n",
              "      <td>995.0</td>\n",
              "      <td>0.0</td>\n",
              "      <td>NaN</td>\n",
              "    </tr>\n",
              "    <tr>\n",
              "      <th>1866</th>\n",
              "      <td>AL102018</td>\n",
              "      <td>JOYCE</td>\n",
              "      <td>AL102018              JOYCE</td>\n",
              "      <td>2018</td>\n",
              "      <td>201</td>\n",
              "      <td>45.0</td>\n",
              "      <td>995.0</td>\n",
              "      <td>0.0</td>\n",
              "      <td>NaN</td>\n",
              "    </tr>\n",
              "    <tr>\n",
              "      <th>1867</th>\n",
              "      <td>AL112018</td>\n",
              "      <td>ELEVEN</td>\n",
              "      <td>AL112018             ELEVEN</td>\n",
              "      <td>2018</td>\n",
              "      <td>201</td>\n",
              "      <td>30.0</td>\n",
              "      <td>1007.0</td>\n",
              "      <td>0.0</td>\n",
              "      <td>NaN</td>\n",
              "    </tr>\n",
              "    <tr>\n",
              "      <th>1868</th>\n",
              "      <td>AL122018</td>\n",
              "      <td>KIRK</td>\n",
              "      <td>AL122018               KIRK</td>\n",
              "      <td>2018</td>\n",
              "      <td>201</td>\n",
              "      <td>55.0</td>\n",
              "      <td>998.0</td>\n",
              "      <td>1.0</td>\n",
              "      <td>45.0</td>\n",
              "    </tr>\n",
              "    <tr>\n",
              "      <th>1869</th>\n",
              "      <td>AL132018</td>\n",
              "      <td>LESLIE</td>\n",
              "      <td>AL132018             LESLIE</td>\n",
              "      <td>2018</td>\n",
              "      <td>201</td>\n",
              "      <td>80.0</td>\n",
              "      <td>968.0</td>\n",
              "      <td>0.0</td>\n",
              "      <td>NaN</td>\n",
              "    </tr>\n",
              "    <tr>\n",
              "      <th>1870</th>\n",
              "      <td>AL142018</td>\n",
              "      <td>MICHAEL</td>\n",
              "      <td>AL142018            MICHAEL</td>\n",
              "      <td>2018</td>\n",
              "      <td>201</td>\n",
              "      <td>140.0</td>\n",
              "      <td>919.0</td>\n",
              "      <td>1.0</td>\n",
              "      <td>140.0</td>\n",
              "    </tr>\n",
              "    <tr>\n",
              "      <th>1871</th>\n",
              "      <td>AL152018</td>\n",
              "      <td>NADINE</td>\n",
              "      <td>AL152018             NADINE</td>\n",
              "      <td>2018</td>\n",
              "      <td>201</td>\n",
              "      <td>55.0</td>\n",
              "      <td>995.0</td>\n",
              "      <td>0.0</td>\n",
              "      <td>NaN</td>\n",
              "    </tr>\n",
              "    <tr>\n",
              "      <th>1872</th>\n",
              "      <td>AL162018</td>\n",
              "      <td>OSCAR</td>\n",
              "      <td>AL162018              OSCAR</td>\n",
              "      <td>2018</td>\n",
              "      <td>201</td>\n",
              "      <td>95.0</td>\n",
              "      <td>952.0</td>\n",
              "      <td>0.0</td>\n",
              "      <td>NaN</td>\n",
              "    </tr>\n",
              "    <tr>\n",
              "      <th>1873</th>\n",
              "      <td>AL012019</td>\n",
              "      <td>ANDREA</td>\n",
              "      <td>AL012019             ANDREA</td>\n",
              "      <td>2019</td>\n",
              "      <td>201</td>\n",
              "      <td>35.0</td>\n",
              "      <td>1006.0</td>\n",
              "      <td>0.0</td>\n",
              "      <td>NaN</td>\n",
              "    </tr>\n",
              "    <tr>\n",
              "      <th>1874</th>\n",
              "      <td>AL022019</td>\n",
              "      <td>BARRY</td>\n",
              "      <td>AL022019              BARRY</td>\n",
              "      <td>2019</td>\n",
              "      <td>201</td>\n",
              "      <td>65.0</td>\n",
              "      <td>993.0</td>\n",
              "      <td>1.0</td>\n",
              "      <td>65.0</td>\n",
              "    </tr>\n",
              "    <tr>\n",
              "      <th>1875</th>\n",
              "      <td>AL032019</td>\n",
              "      <td>THREE</td>\n",
              "      <td>AL032019              THREE</td>\n",
              "      <td>2019</td>\n",
              "      <td>201</td>\n",
              "      <td>30.0</td>\n",
              "      <td>1013.0</td>\n",
              "      <td>0.0</td>\n",
              "      <td>NaN</td>\n",
              "    </tr>\n",
              "    <tr>\n",
              "      <th>1876</th>\n",
              "      <td>AL042019</td>\n",
              "      <td>CHANTAL</td>\n",
              "      <td>AL042019            CHANTAL</td>\n",
              "      <td>2019</td>\n",
              "      <td>201</td>\n",
              "      <td>35.0</td>\n",
              "      <td>1007.0</td>\n",
              "      <td>0.0</td>\n",
              "      <td>NaN</td>\n",
              "    </tr>\n",
              "    <tr>\n",
              "      <th>1877</th>\n",
              "      <td>AL052019</td>\n",
              "      <td>DORIAN</td>\n",
              "      <td>AL052019             DORIAN</td>\n",
              "      <td>2019</td>\n",
              "      <td>201</td>\n",
              "      <td>160.0</td>\n",
              "      <td>910.0</td>\n",
              "      <td>1.0</td>\n",
              "      <td>89.0</td>\n",
              "    </tr>\n",
              "    <tr>\n",
              "      <th>1878</th>\n",
              "      <td>AL062019</td>\n",
              "      <td>ERIN</td>\n",
              "      <td>AL062019               ERIN</td>\n",
              "      <td>2019</td>\n",
              "      <td>201</td>\n",
              "      <td>35.0</td>\n",
              "      <td>1002.0</td>\n",
              "      <td>0.0</td>\n",
              "      <td>NaN</td>\n",
              "    </tr>\n",
              "    <tr>\n",
              "      <th>1879</th>\n",
              "      <td>AL072019</td>\n",
              "      <td>FERNAND</td>\n",
              "      <td>AL072019            FERNAND</td>\n",
              "      <td>2019</td>\n",
              "      <td>201</td>\n",
              "      <td>45.0</td>\n",
              "      <td>1000.0</td>\n",
              "      <td>1.0</td>\n",
              "      <td>40.0</td>\n",
              "    </tr>\n",
              "    <tr>\n",
              "      <th>1880</th>\n",
              "      <td>AL082019</td>\n",
              "      <td>GABRIELLE</td>\n",
              "      <td>AL082019          GABRIELLE</td>\n",
              "      <td>2019</td>\n",
              "      <td>201</td>\n",
              "      <td>55.0</td>\n",
              "      <td>995.0</td>\n",
              "      <td>0.0</td>\n",
              "      <td>NaN</td>\n",
              "    </tr>\n",
              "    <tr>\n",
              "      <th>1881</th>\n",
              "      <td>AL092019</td>\n",
              "      <td>HUMBERTO</td>\n",
              "      <td>AL092019           HUMBERTO</td>\n",
              "      <td>2019</td>\n",
              "      <td>201</td>\n",
              "      <td>110.0</td>\n",
              "      <td>950.0</td>\n",
              "      <td>0.0</td>\n",
              "      <td>NaN</td>\n",
              "    </tr>\n",
              "    <tr>\n",
              "      <th>1882</th>\n",
              "      <td>AL102019</td>\n",
              "      <td>JERRY</td>\n",
              "      <td>AL102019              JERRY</td>\n",
              "      <td>2019</td>\n",
              "      <td>201</td>\n",
              "      <td>90.0</td>\n",
              "      <td>976.0</td>\n",
              "      <td>0.0</td>\n",
              "      <td>NaN</td>\n",
              "    </tr>\n",
              "    <tr>\n",
              "      <th>1883</th>\n",
              "      <td>AL112019</td>\n",
              "      <td>IMELDA</td>\n",
              "      <td>AL112019             IMELDA</td>\n",
              "      <td>2019</td>\n",
              "      <td>201</td>\n",
              "      <td>40.0</td>\n",
              "      <td>1003.0</td>\n",
              "      <td>1.0</td>\n",
              "      <td>40.0</td>\n",
              "    </tr>\n",
              "    <tr>\n",
              "      <th>1884</th>\n",
              "      <td>AL122019</td>\n",
              "      <td>KAREN</td>\n",
              "      <td>AL122019              KAREN</td>\n",
              "      <td>2019</td>\n",
              "      <td>201</td>\n",
              "      <td>40.0</td>\n",
              "      <td>1003.0</td>\n",
              "      <td>1.0</td>\n",
              "      <td>40.0</td>\n",
              "    </tr>\n",
              "    <tr>\n",
              "      <th>1885</th>\n",
              "      <td>AL132019</td>\n",
              "      <td>LORENZO</td>\n",
              "      <td>AL132019            LORENZO</td>\n",
              "      <td>2019</td>\n",
              "      <td>201</td>\n",
              "      <td>140.0</td>\n",
              "      <td>925.0</td>\n",
              "      <td>0.0</td>\n",
              "      <td>NaN</td>\n",
              "    </tr>\n",
              "    <tr>\n",
              "      <th>1886</th>\n",
              "      <td>AL142019</td>\n",
              "      <td>MELISSA</td>\n",
              "      <td>AL142019            MELISSA</td>\n",
              "      <td>2019</td>\n",
              "      <td>201</td>\n",
              "      <td>55.0</td>\n",
              "      <td>994.0</td>\n",
              "      <td>0.0</td>\n",
              "      <td>NaN</td>\n",
              "    </tr>\n",
              "    <tr>\n",
              "      <th>1887</th>\n",
              "      <td>AL152019</td>\n",
              "      <td>FIFTEEN</td>\n",
              "      <td>AL152019            FIFTEEN</td>\n",
              "      <td>2019</td>\n",
              "      <td>201</td>\n",
              "      <td>30.0</td>\n",
              "      <td>1006.0</td>\n",
              "      <td>0.0</td>\n",
              "      <td>NaN</td>\n",
              "    </tr>\n",
              "    <tr>\n",
              "      <th>1888</th>\n",
              "      <td>AL162019</td>\n",
              "      <td>NESTOR</td>\n",
              "      <td>AL162019             NESTOR</td>\n",
              "      <td>2019</td>\n",
              "      <td>201</td>\n",
              "      <td>50.0</td>\n",
              "      <td>996.0</td>\n",
              "      <td>0.0</td>\n",
              "      <td>NaN</td>\n",
              "    </tr>\n",
              "    <tr>\n",
              "      <th>1889</th>\n",
              "      <td>AL172019</td>\n",
              "      <td>OLGA</td>\n",
              "      <td>AL172019               OLGA</td>\n",
              "      <td>2019</td>\n",
              "      <td>201</td>\n",
              "      <td>45.0</td>\n",
              "      <td>992.0</td>\n",
              "      <td>0.0</td>\n",
              "      <td>NaN</td>\n",
              "    </tr>\n",
              "    <tr>\n",
              "      <th>1890</th>\n",
              "      <td>AL182019</td>\n",
              "      <td>PABLO</td>\n",
              "      <td>AL182019              PABLO</td>\n",
              "      <td>2019</td>\n",
              "      <td>201</td>\n",
              "      <td>70.0</td>\n",
              "      <td>977.0</td>\n",
              "      <td>0.0</td>\n",
              "      <td>NaN</td>\n",
              "    </tr>\n",
              "    <tr>\n",
              "      <th>1891</th>\n",
              "      <td>AL192019</td>\n",
              "      <td>REBEKAH</td>\n",
              "      <td>AL192019            REBEKAH</td>\n",
              "      <td>2019</td>\n",
              "      <td>201</td>\n",
              "      <td>70.0</td>\n",
              "      <td>965.0</td>\n",
              "      <td>0.0</td>\n",
              "      <td>NaN</td>\n",
              "    </tr>\n",
              "    <tr>\n",
              "      <th>1892</th>\n",
              "      <td>AL202019</td>\n",
              "      <td>SEBASTIEN</td>\n",
              "      <td>AL202019          SEBASTIEN</td>\n",
              "      <td>2019</td>\n",
              "      <td>201</td>\n",
              "      <td>60.0</td>\n",
              "      <td>970.0</td>\n",
              "      <td>0.0</td>\n",
              "      <td>NaN</td>\n",
              "    </tr>\n",
              "  </tbody>\n",
              "</table>\n",
              "</div>"
            ],
            "text/plain": [
              "            id                 Name  ...   lf  wind_speed_lf\n",
              "1848  AL112017                 IRMA  ...  1.0          137.0\n",
              "1849  AL122017                 JOSE  ...  0.0            NaN\n",
              "1850  AL132017                KATIA  ...  1.0           65.0\n",
              "1851  AL142017                  LEE  ...  0.0            NaN\n",
              "1852  AL152017                MARIA  ...  1.0          140.0\n",
              "1853  AL162017                 NATE  ...  1.0           58.0\n",
              "1854  AL172017              OPHELIA  ...  1.0           70.0\n",
              "1855  AL182017             PHILIPPE  ...  1.0           35.0\n",
              "1856  AL192017                 RINA  ...  0.0            NaN\n",
              "1857  AL012018              ALBERTO  ...  1.0           40.0\n",
              "1858  AL022018                BERYL  ...  0.0            NaN\n",
              "1859  AL032018                CHRIS  ...  0.0            NaN\n",
              "1860  AL042018                DEBBY  ...  0.0            NaN\n",
              "1861  AL052018              ERNESTO  ...  0.0            NaN\n",
              "1862  AL062018             FLORENCE  ...  1.0           80.0\n",
              "1863  AL072018               GORDON  ...  1.0           50.0\n",
              "1864  AL082018               HELENE  ...  0.0            NaN\n",
              "1865  AL092018                ISAAC  ...  0.0            NaN\n",
              "1866  AL102018                JOYCE  ...  0.0            NaN\n",
              "1867  AL112018               ELEVEN  ...  0.0            NaN\n",
              "1868  AL122018                 KIRK  ...  1.0           45.0\n",
              "1869  AL132018               LESLIE  ...  0.0            NaN\n",
              "1870  AL142018              MICHAEL  ...  1.0          140.0\n",
              "1871  AL152018               NADINE  ...  0.0            NaN\n",
              "1872  AL162018                OSCAR  ...  0.0            NaN\n",
              "1873  AL012019               ANDREA  ...  0.0            NaN\n",
              "1874  AL022019                BARRY  ...  1.0           65.0\n",
              "1875  AL032019                THREE  ...  0.0            NaN\n",
              "1876  AL042019              CHANTAL  ...  0.0            NaN\n",
              "1877  AL052019               DORIAN  ...  1.0           89.0\n",
              "1878  AL062019                 ERIN  ...  0.0            NaN\n",
              "1879  AL072019              FERNAND  ...  1.0           40.0\n",
              "1880  AL082019            GABRIELLE  ...  0.0            NaN\n",
              "1881  AL092019             HUMBERTO  ...  0.0            NaN\n",
              "1882  AL102019                JERRY  ...  0.0            NaN\n",
              "1883  AL112019               IMELDA  ...  1.0           40.0\n",
              "1884  AL122019                KAREN  ...  1.0           40.0\n",
              "1885  AL132019              LORENZO  ...  0.0            NaN\n",
              "1886  AL142019              MELISSA  ...  0.0            NaN\n",
              "1887  AL152019              FIFTEEN  ...  0.0            NaN\n",
              "1888  AL162019               NESTOR  ...  0.0            NaN\n",
              "1889  AL172019                 OLGA  ...  0.0            NaN\n",
              "1890  AL182019                PABLO  ...  0.0            NaN\n",
              "1891  AL192019              REBEKAH  ...  0.0            NaN\n",
              "1892  AL202019            SEBASTIEN  ...  0.0            NaN\n",
              "\n",
              "[45 rows x 9 columns]"
            ]
          },
          "metadata": {
            "tags": []
          },
          "execution_count": 163
        }
      ]
    },
    {
      "cell_type": "markdown",
      "metadata": {
        "id": "WrKO4HH71psi"
      },
      "source": [
        "#Group data by Decades:"
      ]
    },
    {
      "cell_type": "markdown",
      "metadata": {
        "id": "ibZG8gP2hmEl"
      },
      "source": [
        "####We'll filter out hurricanes which wind speed did not reach 50mph"
      ]
    },
    {
      "cell_type": "code",
      "metadata": {
        "colab": {
          "base_uri": "https://localhost:8080/"
        },
        "id": "9mnanBv6jr8M",
        "outputId": "7b2dd068-d367-42a1-f46c-334d0084b212"
      },
      "source": [
        "df_hur50=df_hur.loc[df_hur['max_wind']>=50]\r\n",
        "dropped=len(df_hur)-len(df_hur50)\r\n",
        "\r\n",
        "print(dropped, 'storms that did not surpass 50mph dropped')\r\n",
        "print(len(df_hur50), 'Hurricanes remaining in dataset')"
      ],
      "execution_count": 80,
      "outputs": [
        {
          "output_type": "stream",
          "text": [
            "530 storms that did not surpass 50mph dropped\n",
            "1363 Hurricanes remaining in dataset\n"
          ],
          "name": "stdout"
        }
      ]
    },
    {
      "cell_type": "code",
      "metadata": {
        "colab": {
          "base_uri": "https://localhost:8080/",
          "height": 619
        },
        "id": "RQuUdAL0yg8i",
        "outputId": "3db914e6-9755-4dee-e6cf-41a75e97d364"
      },
      "source": [
        "#Group data by decades \r\n",
        "max_wind_dec=df_hur50.groupby(['dec'], sort=None)['max_wind'].max()\r\n",
        "\r\n",
        "mean_of_ws_dec=df_hur50.groupby(['dec'], sort=None)['max_wind'].mean()\r\n",
        "\r\n",
        "min_press_dec=df_hur50.groupby(['dec'], sort=None)['min_press'].min()\r\n",
        "\r\n",
        "mean_min_press_dec=df_hur50.groupby(['dec'], sort=None)['min_press'].mean()\r\n",
        "\r\n",
        "num_hur_dec=df_hur50['dec'].value_counts()\r\n",
        "\r\n",
        "lf_dec=df_hur50.groupby(['dec'],sort=None)['lf'].sum()\r\n",
        "\r\n",
        "ws_lf_dec=df_hur50.groupby(['dec'],sort=None)['wind_speed_lf'].mean()  #Calculate mean wind speed recorded of hurricanes at time of landfall\r\n",
        "\r\n",
        "\r\n",
        "# unique_decs=df_hur50['dec'].unique()\r\n",
        "# unique_decs\r\n",
        "df_dec50=pd.DataFrame({'dec': df_hur50['dec'].unique(), 'max_wind': max_wind_dec, 'mean_of_ws': mean_of_ws_dec, 'min_press': min_press_dec,'mean_min_press': mean_min_press_dec, 'No_of_Hurricanes': num_hur_dec, 'No_of_lf_Hurricanes': lf_dec, 'mean_ws_at_lf': round(ws_lf_dec,1)})\r\n",
        "\r\n",
        "df_dec50['lf_perc']=round(df_dec50['No_of_lf_Hurricanes']/df_dec50['No_of_Hurricanes']*100,2)\r\n",
        "\r\n",
        "\r\n",
        "print('Total hurricanes',df_dec50['No_of_Hurricanes'].sum())\r\n",
        "print('')\r\n",
        "print('Hurricanes that made landfall',df_dec50['No_of_lf_Hurricanes'].sum().astype(int))\r\n",
        "df_dec50.head(25)"
      ],
      "execution_count": 81,
      "outputs": [
        {
          "output_type": "stream",
          "text": [
            "Total hurricanes 1363\n",
            "\n",
            "Hurricanes that made landfall 549\n"
          ],
          "name": "stdout"
        },
        {
          "output_type": "execute_result",
          "data": {
            "text/html": [
              "<div>\n",
              "<style scoped>\n",
              "    .dataframe tbody tr th:only-of-type {\n",
              "        vertical-align: middle;\n",
              "    }\n",
              "\n",
              "    .dataframe tbody tr th {\n",
              "        vertical-align: top;\n",
              "    }\n",
              "\n",
              "    .dataframe thead th {\n",
              "        text-align: right;\n",
              "    }\n",
              "</style>\n",
              "<table border=\"1\" class=\"dataframe\">\n",
              "  <thead>\n",
              "    <tr style=\"text-align: right;\">\n",
              "      <th></th>\n",
              "      <th>dec</th>\n",
              "      <th>max_wind</th>\n",
              "      <th>mean_of_ws</th>\n",
              "      <th>min_press</th>\n",
              "      <th>mean_min_press</th>\n",
              "      <th>No_of_Hurricanes</th>\n",
              "      <th>No_of_lf_Hurricanes</th>\n",
              "      <th>mean_ws_at_lf</th>\n",
              "      <th>lf_perc</th>\n",
              "    </tr>\n",
              "  </thead>\n",
              "  <tbody>\n",
              "    <tr>\n",
              "      <th>185</th>\n",
              "      <td>185</td>\n",
              "      <td>130.0</td>\n",
              "      <td>78.653846</td>\n",
              "      <td>924.0</td>\n",
              "      <td>959.000000</td>\n",
              "      <td>52</td>\n",
              "      <td>19.0</td>\n",
              "      <td>81.6</td>\n",
              "      <td>36.54</td>\n",
              "    </tr>\n",
              "    <tr>\n",
              "      <th>186</th>\n",
              "      <td>186</td>\n",
              "      <td>120.0</td>\n",
              "      <td>75.915493</td>\n",
              "      <td>938.0</td>\n",
              "      <td>967.125000</td>\n",
              "      <td>71</td>\n",
              "      <td>20.0</td>\n",
              "      <td>76.6</td>\n",
              "      <td>28.17</td>\n",
              "    </tr>\n",
              "    <tr>\n",
              "      <th>187</th>\n",
              "      <td>187</td>\n",
              "      <td>120.0</td>\n",
              "      <td>76.301370</td>\n",
              "      <td>938.0</td>\n",
              "      <td>968.160000</td>\n",
              "      <td>73</td>\n",
              "      <td>30.0</td>\n",
              "      <td>70.4</td>\n",
              "      <td>41.10</td>\n",
              "    </tr>\n",
              "    <tr>\n",
              "      <th>188</th>\n",
              "      <td>188</td>\n",
              "      <td>130.0</td>\n",
              "      <td>78.647059</td>\n",
              "      <td>925.0</td>\n",
              "      <td>972.214286</td>\n",
              "      <td>85</td>\n",
              "      <td>37.0</td>\n",
              "      <td>71.8</td>\n",
              "      <td>43.53</td>\n",
              "    </tr>\n",
              "    <tr>\n",
              "      <th>189</th>\n",
              "      <td>189</td>\n",
              "      <td>130.0</td>\n",
              "      <td>79.500000</td>\n",
              "      <td>930.0</td>\n",
              "      <td>953.500000</td>\n",
              "      <td>70</td>\n",
              "      <td>32.0</td>\n",
              "      <td>71.7</td>\n",
              "      <td>45.71</td>\n",
              "    </tr>\n",
              "    <tr>\n",
              "      <th>190</th>\n",
              "      <td>190</td>\n",
              "      <td>125.0</td>\n",
              "      <td>77.333333</td>\n",
              "      <td>936.0</td>\n",
              "      <td>964.058824</td>\n",
              "      <td>60</td>\n",
              "      <td>24.0</td>\n",
              "      <td>70.8</td>\n",
              "      <td>40.00</td>\n",
              "    </tr>\n",
              "    <tr>\n",
              "      <th>191</th>\n",
              "      <td>191</td>\n",
              "      <td>130.0</td>\n",
              "      <td>82.549020</td>\n",
              "      <td>924.0</td>\n",
              "      <td>966.208333</td>\n",
              "      <td>51</td>\n",
              "      <td>28.0</td>\n",
              "      <td>79.3</td>\n",
              "      <td>54.90</td>\n",
              "    </tr>\n",
              "    <tr>\n",
              "      <th>192</th>\n",
              "      <td>192</td>\n",
              "      <td>145.0</td>\n",
              "      <td>83.508772</td>\n",
              "      <td>910.0</td>\n",
              "      <td>965.517241</td>\n",
              "      <td>57</td>\n",
              "      <td>22.0</td>\n",
              "      <td>71.8</td>\n",
              "      <td>38.60</td>\n",
              "    </tr>\n",
              "    <tr>\n",
              "      <th>193</th>\n",
              "      <td>193</td>\n",
              "      <td>160.0</td>\n",
              "      <td>81.321839</td>\n",
              "      <td>892.0</td>\n",
              "      <td>967.710526</td>\n",
              "      <td>87</td>\n",
              "      <td>27.0</td>\n",
              "      <td>69.0</td>\n",
              "      <td>31.03</td>\n",
              "    </tr>\n",
              "    <tr>\n",
              "      <th>194</th>\n",
              "      <td>194</td>\n",
              "      <td>125.0</td>\n",
              "      <td>79.207317</td>\n",
              "      <td>937.0</td>\n",
              "      <td>975.840909</td>\n",
              "      <td>82</td>\n",
              "      <td>35.0</td>\n",
              "      <td>74.3</td>\n",
              "      <td>42.68</td>\n",
              "    </tr>\n",
              "    <tr>\n",
              "      <th>195</th>\n",
              "      <td>195</td>\n",
              "      <td>150.0</td>\n",
              "      <td>81.226415</td>\n",
              "      <td>914.0</td>\n",
              "      <td>975.079545</td>\n",
              "      <td>106</td>\n",
              "      <td>54.0</td>\n",
              "      <td>70.6</td>\n",
              "      <td>50.94</td>\n",
              "    </tr>\n",
              "    <tr>\n",
              "      <th>196</th>\n",
              "      <td>196</td>\n",
              "      <td>150.0</td>\n",
              "      <td>81.000000</td>\n",
              "      <td>900.0</td>\n",
              "      <td>976.193548</td>\n",
              "      <td>95</td>\n",
              "      <td>31.0</td>\n",
              "      <td>70.1</td>\n",
              "      <td>32.63</td>\n",
              "    </tr>\n",
              "    <tr>\n",
              "      <th>197</th>\n",
              "      <td>197</td>\n",
              "      <td>150.0</td>\n",
              "      <td>78.684211</td>\n",
              "      <td>924.0</td>\n",
              "      <td>978.368421</td>\n",
              "      <td>76</td>\n",
              "      <td>0.0</td>\n",
              "      <td>NaN</td>\n",
              "      <td>0.00</td>\n",
              "    </tr>\n",
              "    <tr>\n",
              "      <th>198</th>\n",
              "      <td>198</td>\n",
              "      <td>165.0</td>\n",
              "      <td>78.397436</td>\n",
              "      <td>888.0</td>\n",
              "      <td>977.320513</td>\n",
              "      <td>78</td>\n",
              "      <td>24.0</td>\n",
              "      <td>73.8</td>\n",
              "      <td>30.77</td>\n",
              "    </tr>\n",
              "    <tr>\n",
              "      <th>199</th>\n",
              "      <td>199</td>\n",
              "      <td>155.0</td>\n",
              "      <td>84.294118</td>\n",
              "      <td>905.0</td>\n",
              "      <td>970.235294</td>\n",
              "      <td>85</td>\n",
              "      <td>43.0</td>\n",
              "      <td>69.7</td>\n",
              "      <td>50.59</td>\n",
              "    </tr>\n",
              "    <tr>\n",
              "      <th>200</th>\n",
              "      <td>200</td>\n",
              "      <td>160.0</td>\n",
              "      <td>81.570248</td>\n",
              "      <td>882.0</td>\n",
              "      <td>972.644628</td>\n",
              "      <td>121</td>\n",
              "      <td>69.0</td>\n",
              "      <td>63.6</td>\n",
              "      <td>57.02</td>\n",
              "    </tr>\n",
              "    <tr>\n",
              "      <th>201</th>\n",
              "      <td>201</td>\n",
              "      <td>160.0</td>\n",
              "      <td>80.964912</td>\n",
              "      <td>908.0</td>\n",
              "      <td>973.315789</td>\n",
              "      <td>114</td>\n",
              "      <td>54.0</td>\n",
              "      <td>66.9</td>\n",
              "      <td>47.37</td>\n",
              "    </tr>\n",
              "  </tbody>\n",
              "</table>\n",
              "</div>"
            ],
            "text/plain": [
              "     dec  max_wind  mean_of_ws  ...  No_of_lf_Hurricanes  mean_ws_at_lf  lf_perc\n",
              "185  185     130.0   78.653846  ...                 19.0           81.6    36.54\n",
              "186  186     120.0   75.915493  ...                 20.0           76.6    28.17\n",
              "187  187     120.0   76.301370  ...                 30.0           70.4    41.10\n",
              "188  188     130.0   78.647059  ...                 37.0           71.8    43.53\n",
              "189  189     130.0   79.500000  ...                 32.0           71.7    45.71\n",
              "190  190     125.0   77.333333  ...                 24.0           70.8    40.00\n",
              "191  191     130.0   82.549020  ...                 28.0           79.3    54.90\n",
              "192  192     145.0   83.508772  ...                 22.0           71.8    38.60\n",
              "193  193     160.0   81.321839  ...                 27.0           69.0    31.03\n",
              "194  194     125.0   79.207317  ...                 35.0           74.3    42.68\n",
              "195  195     150.0   81.226415  ...                 54.0           70.6    50.94\n",
              "196  196     150.0   81.000000  ...                 31.0           70.1    32.63\n",
              "197  197     150.0   78.684211  ...                  0.0            NaN     0.00\n",
              "198  198     165.0   78.397436  ...                 24.0           73.8    30.77\n",
              "199  199     155.0   84.294118  ...                 43.0           69.7    50.59\n",
              "200  200     160.0   81.570248  ...                 69.0           63.6    57.02\n",
              "201  201     160.0   80.964912  ...                 54.0           66.9    47.37\n",
              "\n",
              "[17 rows x 9 columns]"
            ]
          },
          "metadata": {
            "tags": []
          },
          "execution_count": 81
        }
      ]
    },
    {
      "cell_type": "markdown",
      "metadata": {
        "id": "PSjtYCvWxnxl"
      },
      "source": [
        "#OLS"
      ]
    },
    {
      "cell_type": "code",
      "metadata": {
        "colab": {
          "base_uri": "https://localhost:8080/",
          "height": 400
        },
        "id": "vTJNe04vxnTP",
        "outputId": "76807e79-2577-40de-9472-654e22df71a3"
      },
      "source": [
        "sns.lmplot(x='dec', y='No_of_Hurricanes',data=df_dec50, ci=95)\r\n"
      ],
      "execution_count": 82,
      "outputs": [
        {
          "output_type": "execute_result",
          "data": {
            "text/plain": [
              "<seaborn.axisgrid.FacetGrid at 0x7f652f6d7f28>"
            ]
          },
          "metadata": {
            "tags": []
          },
          "execution_count": 82
        },
        {
          "output_type": "display_data",
          "data": {
            "image/png": "[encoded data removed]",
            "text/plain": [
              "<Figure size 360x360 with 1 Axes>"
            ]
          },
          "metadata": {
            "tags": [],
            "needs_background": "light"
          }
        }
      ]
    },
    {
      "cell_type": "code",
      "metadata": {
        "id": "1PI0iWj4yAJ1",
        "outputId": "be242aba-586a-4ad2-f191-4ed89a4df044",
        "colab": {
          "base_uri": "https://localhost:8080/"
        }
      },
      "source": [
        "from statsmodels.formula.api import ols\r\n",
        "model=ols('No_of_Hurricanes ~ dec', data=df_dec50).fit()\r\n",
        "print(model.summary())"
      ],
      "execution_count": 83,
      "outputs": [
        {
          "output_type": "stream",
          "text": [
            "                            OLS Regression Results                            \n",
            "==============================================================================\n",
            "Dep. Variable:       No_of_Hurricanes   R-squared:                       0.485\n",
            "Model:                            OLS   Adj. R-squared:                  0.451\n",
            "Method:                 Least Squares   F-statistic:                     14.14\n",
            "Date:                Wed, 03 Feb 2021   Prob (F-statistic):            0.00189\n",
            "Time:                        21:24:39   Log-Likelihood:                -69.207\n",
            "No. Observations:                  17   AIC:                             142.4\n",
            "Df Residuals:                      15   BIC:                             144.1\n",
            "Df Model:                           1                                         \n",
            "Covariance Type:            nonrobust                                         \n",
            "==============================================================================\n",
            "                 coef    std err          t      P>|t|      [0.025      0.975]\n",
            "------------------------------------------------------------------------------\n",
            "Intercept   -462.3995    144.321     -3.204      0.006    -770.013    -154.786\n",
            "dec            2.8113      0.748      3.761      0.002       1.218       4.405\n",
            "==============================================================================\n",
            "Omnibus:                        3.016   Durbin-Watson:                   1.202\n",
            "Prob(Omnibus):                  0.221   Jarque-Bera (JB):                1.189\n",
            "Skew:                          -0.092   Prob(JB):                        0.552\n",
            "Kurtosis:                       1.718   Cond. No.                     7.61e+03\n",
            "==============================================================================\n",
            "\n",
            "Warnings:\n",
            "[1] Standard Errors assume that the covariance matrix of the errors is correctly specified.\n",
            "[2] The condition number is large, 7.61e+03. This might indicate that there are\n",
            "strong multicollinearity or other numerical problems.\n"
          ],
          "name": "stdout"
        },
        {
          "output_type": "stream",
          "text": [
            "/usr/local/lib/python3.6/dist-packages/scipy/stats/stats.py:1535: UserWarning: kurtosistest only valid for n>=20 ... continuing anyway, n=17\n",
            "  \"anyway, n=%i\" % int(n))\n"
          ],
          "name": "stderr"
        }
      ]
    },
    {
      "cell_type": "code",
      "metadata": {
        "colab": {
          "base_uri": "https://localhost:8080/",
          "height": 400
        },
        "id": "50azwq_9yskN",
        "outputId": "4906dccb-fb6f-48ee-c61a-d1378ff99db0"
      },
      "source": [
        "sns.lmplot(x='dec', y='max_wind',data=df_dec50, ci=95)"
      ],
      "execution_count": 87,
      "outputs": [
        {
          "output_type": "execute_result",
          "data": {
            "text/plain": [
              "<seaborn.axisgrid.FacetGrid at 0x7f652ddbdbe0>"
            ]
          },
          "metadata": {
            "tags": []
          },
          "execution_count": 87
        },
        {
          "output_type": "display_data",
          "data": {
            "image/png": "[encoded data removed]",
            "text/plain": [
              "<Figure size 360x360 with 1 Axes>"
            ]
          },
          "metadata": {
            "tags": [],
            "needs_background": "light"
          }
        }
      ]
    },
    {
      "cell_type": "code",
      "metadata": {
        "id": "1z4KFOLdyvaI",
        "outputId": "6be2d072-077f-426d-9816-b0382d756a69",
        "colab": {
          "base_uri": "https://localhost:8080/"
        }
      },
      "source": [
        "model=ols('max_wind ~ dec', data=df_dec50).fit()\r\n",
        "print(model.summary())"
      ],
      "execution_count": 86,
      "outputs": [
        {
          "output_type": "stream",
          "text": [
            "                            OLS Regression Results                            \n",
            "==============================================================================\n",
            "Dep. Variable:               max_wind   R-squared:                       0.717\n",
            "Model:                            OLS   Adj. R-squared:                  0.698\n",
            "Method:                 Least Squares   F-statistic:                     37.97\n",
            "Date:                Wed, 03 Feb 2021   Prob (F-statistic):           1.82e-05\n",
            "Time:                        21:28:40   Log-Likelihood:                -59.790\n",
            "No. Observations:                  17   AIC:                             123.6\n",
            "Df Residuals:                      15   BIC:                             125.2\n",
            "Df Model:                           1                                         \n",
            "Covariance Type:            nonrobust                                         \n",
            "==============================================================================\n",
            "                 coef    std err          t      P>|t|      [0.025      0.975]\n",
            "------------------------------------------------------------------------------\n",
            "Intercept   -369.4118     82.937     -4.454      0.000    -546.188    -192.636\n",
            "dec            2.6471      0.430      6.162      0.000       1.731       3.563\n",
            "==============================================================================\n",
            "Omnibus:                        1.892   Durbin-Watson:                   2.526\n",
            "Prob(Omnibus):                  0.388   Jarque-Bera (JB):                0.404\n",
            "Skew:                           0.061   Prob(JB):                        0.817\n",
            "Kurtosis:                       3.745   Cond. No.                     7.61e+03\n",
            "==============================================================================\n",
            "\n",
            "Warnings:\n",
            "[1] Standard Errors assume that the covariance matrix of the errors is correctly specified.\n",
            "[2] The condition number is large, 7.61e+03. This might indicate that there are\n",
            "strong multicollinearity or other numerical problems.\n"
          ],
          "name": "stdout"
        },
        {
          "output_type": "stream",
          "text": [
            "/usr/local/lib/python3.6/dist-packages/scipy/stats/stats.py:1535: UserWarning: kurtosistest only valid for n>=20 ... continuing anyway, n=17\n",
            "  \"anyway, n=%i\" % int(n))\n"
          ],
          "name": "stderr"
        }
      ]
    },
    {
      "cell_type": "code",
      "metadata": {
        "id": "i7tceCqDkXwj",
        "outputId": "c3736f70-0aac-4211-aacc-f74e4c7d6774",
        "colab": {
          "base_uri": "https://localhost:8080/",
          "height": 400
        }
      },
      "source": [
        "sns.lmplot(x='dec', y='mean_of_ws',data=df_dec50, ci=95)"
      ],
      "execution_count": 179,
      "outputs": [
        {
          "output_type": "execute_result",
          "data": {
            "text/plain": [
              "<seaborn.axisgrid.FacetGrid at 0x7f652bcee7b8>"
            ]
          },
          "metadata": {
            "tags": []
          },
          "execution_count": 179
        },
        {
          "output_type": "display_data",
          "data": {
            "image/png": "[encoded data removed]",
            "text/plain": [
              "<Figure size 360x360 with 1 Axes>"
            ]
          },
          "metadata": {
            "tags": [],
            "needs_background": "light"
          }
        }
      ]
    },
    {
      "cell_type": "code",
      "metadata": {
        "id": "JcysmlIlkjct",
        "outputId": "12253d6a-a489-404f-feb1-a7d863712ecd",
        "colab": {
          "base_uri": "https://localhost:8080/"
        }
      },
      "source": [
        "model=ols('mean_of_ws ~ dec', data=df_dec50).fit()\r\n",
        "print(model.summary())"
      ],
      "execution_count": 180,
      "outputs": [
        {
          "output_type": "stream",
          "text": [
            "                            OLS Regression Results                            \n",
            "==============================================================================\n",
            "Dep. Variable:             mean_of_ws   R-squared:                       0.300\n",
            "Model:                            OLS   Adj. R-squared:                  0.253\n",
            "Method:                 Least Squares   F-statistic:                     6.420\n",
            "Date:                Thu, 04 Feb 2021   Prob (F-statistic):             0.0229\n",
            "Time:                        01:05:12   Log-Likelihood:                -35.367\n",
            "No. Observations:                  17   AIC:                             74.73\n",
            "Df Residuals:                      15   BIC:                             76.40\n",
            "Df Model:                           1                                         \n",
            "Covariance Type:            nonrobust                                         \n",
            "==============================================================================\n",
            "                 coef    std err          t      P>|t|      [0.025      0.975]\n",
            "------------------------------------------------------------------------------\n",
            "Intercept     30.0067     19.716      1.522      0.149     -12.017      72.030\n",
            "dec            0.2588      0.102      2.534      0.023       0.041       0.476\n",
            "==============================================================================\n",
            "Omnibus:                        0.994   Durbin-Watson:                   1.691\n",
            "Prob(Omnibus):                  0.608   Jarque-Bera (JB):                0.903\n",
            "Skew:                           0.391   Prob(JB):                        0.637\n",
            "Kurtosis:                       2.186   Cond. No.                     7.61e+03\n",
            "==============================================================================\n",
            "\n",
            "Warnings:\n",
            "[1] Standard Errors assume that the covariance matrix of the errors is correctly specified.\n",
            "[2] The condition number is large, 7.61e+03. This might indicate that there are\n",
            "strong multicollinearity or other numerical problems.\n"
          ],
          "name": "stdout"
        },
        {
          "output_type": "stream",
          "text": [
            "/usr/local/lib/python3.6/dist-packages/scipy/stats/stats.py:1535: UserWarning: kurtosistest only valid for n>=20 ... continuing anyway, n=17\n",
            "  \"anyway, n=%i\" % int(n))\n"
          ],
          "name": "stderr"
        }
      ]
    },
    {
      "cell_type": "markdown",
      "metadata": {
        "id": "wO-xS4ddKhVc"
      },
      "source": [
        "##OLS for % of hurricanes that made landfall vs. decades"
      ]
    },
    {
      "cell_type": "code",
      "metadata": {
        "id": "o0mI9LO0KgYx",
        "outputId": "4baba9c3-2bff-4be6-e0bb-cc4a1ab4fe97",
        "colab": {
          "base_uri": "https://localhost:8080/",
          "height": 400
        }
      },
      "source": [
        "sns.lmplot(x='dec', y='lf_perc',data=df_dec50, ci=95)"
      ],
      "execution_count": 91,
      "outputs": [
        {
          "output_type": "execute_result",
          "data": {
            "text/plain": [
              "<seaborn.axisgrid.FacetGrid at 0x7f652bfdb048>"
            ]
          },
          "metadata": {
            "tags": []
          },
          "execution_count": 91
        },
        {
          "output_type": "display_data",
          "data": {
            "image/png": "[encoded data removed]",
            "text/plain": [
              "<Figure size 360x360 with 1 Axes>"
            ]
          },
          "metadata": {
            "tags": [],
            "needs_background": "light"
          }
        }
      ]
    },
    {
      "cell_type": "code",
      "metadata": {
        "id": "xH3LJX1VbA-a",
        "outputId": "d0fe9c9e-44f4-41e8-f49b-a3086be4a22a",
        "colab": {
          "base_uri": "https://localhost:8080/"
        }
      },
      "source": [
        "model=ols('lf_perc ~ dec', data=df_dec50).fit()\r\n",
        "print(model.summary())"
      ],
      "execution_count": 126,
      "outputs": [
        {
          "output_type": "stream",
          "text": [
            "                            OLS Regression Results                            \n",
            "==============================================================================\n",
            "Dep. Variable:                lf_perc   R-squared:                       0.005\n",
            "Model:                            OLS   Adj. R-squared:                 -0.062\n",
            "Method:                 Least Squares   F-statistic:                   0.06966\n",
            "Date:                Thu, 04 Feb 2021   Prob (F-statistic):              0.795\n",
            "Time:                        00:24:08   Log-Likelihood:                -67.531\n",
            "No. Observations:                  17   AIC:                             139.1\n",
            "Df Residuals:                      15   BIC:                             140.7\n",
            "Df Model:                           1                                         \n",
            "Covariance Type:            nonrobust                                         \n",
            "==============================================================================\n",
            "                 coef    std err          t      P>|t|      [0.025      0.975]\n",
            "------------------------------------------------------------------------------\n",
            "Intercept      5.0012    130.772      0.038      0.970    -273.733     283.735\n",
            "dec            0.1788      0.677      0.264      0.795      -1.265       1.623\n",
            "==============================================================================\n",
            "Omnibus:                       15.184   Durbin-Watson:                   1.389\n",
            "Prob(Omnibus):                  0.001   Jarque-Bera (JB):               13.567\n",
            "Skew:                          -1.570   Prob(JB):                      0.00113\n",
            "Kurtosis:                       6.048   Cond. No.                     7.61e+03\n",
            "==============================================================================\n",
            "\n",
            "Warnings:\n",
            "[1] Standard Errors assume that the covariance matrix of the errors is correctly specified.\n",
            "[2] The condition number is large, 7.61e+03. This might indicate that there are\n",
            "strong multicollinearity or other numerical problems.\n"
          ],
          "name": "stdout"
        },
        {
          "output_type": "stream",
          "text": [
            "/usr/local/lib/python3.6/dist-packages/scipy/stats/stats.py:1535: UserWarning: kurtosistest only valid for n>=20 ... continuing anyway, n=17\n",
            "  \"anyway, n=%i\" % int(n))\n"
          ],
          "name": "stderr"
        }
      ]
    },
    {
      "cell_type": "code",
      "metadata": {
        "id": "2GZ3XExZPkRD"
      },
      "source": [
        "df_=df.loc[(df['id-name'].str[4:8].astype(int)>=1930) & (df['id-name'].str[4:8].astype(int)< 1940)]\r\n",
        "df_.head(200)\r\n",
        "df_=df.loc[(df['id-name'].str[4:8].astype(int)>=1928) & (df['id-name'].str[4:8].astype(int)< 1929)]\r\n",
        "df_.tail(200)"
      ],
      "execution_count": null,
      "outputs": []
    },
    {
      "cell_type": "markdown",
      "metadata": {
        "id": "J2c4hGBxFRfV"
      },
      "source": [
        "#T-test\r\n",
        "\r\n",
        "We'll do a t-test to compare the last two decades (200 and 201) to the years 1850-1999. Our null hypothesis is that the mean of the maximum wind for hurricanes in decade 200 is the same as the mean of the maximum wind for all previous decades combined (control:\r\n",
        "\r\n",
        "H$_0$: $\\mu_{200} = \\mu_{control}$\r\n",
        "\r\n",
        "H$_a$: $\\mu_{200} \\neq \\mu_{control}$\r\n",
        "\r\n",
        "Same for decade 201 (note control remains the same and does not include decade 200):\r\n",
        "\r\n",
        "H$_0$: $\\mu_{201} = \\mu_{control}$\r\n",
        "\r\n",
        "H$_a$: $\\mu_{201} \\neq \\mu_{control}$"
      ]
    },
    {
      "cell_type": "code",
      "metadata": {
        "colab": {
          "base_uri": "https://localhost:8080/"
        },
        "id": "GLxkpZm7FRPV",
        "outputId": "b99c2568-c547-46f4-b6be-8cfdd16494f7"
      },
      "source": [
        "twohund=df_hur50.loc[(df_hur50['dec']==200), 'max_wind']\r\n",
        "twoohone=df_hur50.loc[(df_hur50['dec']==201), 'max_wind']\r\n",
        "control=df_hur50.loc[(df_hur50['dec']<200), 'max_wind']\r\n",
        "from scipy import stats as st\r\n",
        "\r\n",
        "twohund_tval, twohund_pval=st.ttest_ind(twohund,control,equal_var=False,nan_policy='omit')\r\n",
        "twohund_tval,twohund_pval\r\n",
        "\r\n",
        "twoohone_tval, twoohone_pval=st.ttest_ind(twoohone,control,equal_var=False,nan_policy='omit')\r\n",
        "twoohone_tval,twoohone_pval\r\n",
        "\r\n",
        "\r\n",
        "print('p-value for max_wind in decade 200:', twohund_pval)\r\n",
        "print('')\r\n",
        "print('p-value for max_wind in decade 201:', twoohone_pval)\r\n",
        "# control"
      ],
      "execution_count": 88,
      "outputs": [
        {
          "output_type": "stream",
          "text": [
            "p-value for max_wind in decade 200: 0.5419853063370423\n",
            "\n",
            "p-value for max_wind in decade 201: 0.6806812340452624\n"
          ],
          "name": "stdout"
        }
      ]
    },
    {
      "cell_type": "markdown",
      "metadata": {
        "id": "FWNZaf8hQ3to"
      },
      "source": [
        "####We fail to reject the null hypothesis, there is no statistical difference between the mean wind speed of hurricanes the past two decades compared to prior decades."
      ]
    },
    {
      "cell_type": "markdown",
      "metadata": {
        "id": "jJC7N4w2Un6J"
      },
      "source": [
        "###We'll perform the same test with the control group decades < 1950's "
      ]
    },
    {
      "cell_type": "code",
      "metadata": {
        "id": "L-600_g0UxL_",
        "colab": {
          "base_uri": "https://localhost:8080/"
        },
        "outputId": "7097f816-d37d-4e52-a35d-58f8c05f58f9"
      },
      "source": [
        "twohund=df_hur50.loc[(df_hur50['dec']==200), 'max_wind']\r\n",
        "twoohone=df_hur50.loc[(df_hur50['dec']==201), 'max_wind']\r\n",
        "control=df_hur50.loc[(df_hur50['dec']<194), 'max_wind']\r\n",
        "from scipy import stats as st\r\n",
        "\r\n",
        "twohund_tval, twohund_pval=st.ttest_ind(twohund,control,equal_var=False,nan_policy='omit')\r\n",
        "twohund_tval,twohund_pval\r\n",
        "\r\n",
        "twoohone_tval, twoohone_pval=st.ttest_ind(twoohone,control,equal_var=False,nan_policy='omit')\r\n",
        "twoohone_tval,twoohone_pval\r\n",
        "\r\n",
        "\r\n",
        "print('p-value for max_wind in decade 200:', twohund_pval)\r\n",
        "print('')\r\n",
        "print('p-value for max_wind in decade 201:', twoohone_pval)\r\n"
      ],
      "execution_count": 89,
      "outputs": [
        {
          "output_type": "stream",
          "text": [
            "p-value for max_wind in decade 200: 0.41270143665594616\n",
            "\n",
            "p-value for max_wind in decade 201: 0.5277779893646224\n"
          ],
          "name": "stdout"
        }
      ]
    },
    {
      "cell_type": "code",
      "metadata": {
        "colab": {
          "base_uri": "https://localhost:8080/",
          "height": 1000
        },
        "id": "cW4NI5w2OQEo",
        "outputId": "80be90df-c50e-4909-d89f-20eac85bb6a6"
      },
      "source": [
        "import seaborn as sns\r\n",
        "sns.pairplot(df_dec50)"
      ],
      "execution_count": 90,
      "outputs": [
        {
          "output_type": "execute_result",
          "data": {
            "text/plain": [
              "<seaborn.axisgrid.PairGrid at 0x7f652dd79ba8>"
            ]
          },
          "metadata": {
            "tags": []
          },
          "execution_count": 90
        },
        {
          "output_type": "display_data",
          "data": {
            "image/png": "[encoded data removed]",
            "text/plain": [
              "<Figure size 1620x1620 with 90 Axes>"
            ]
          },
          "metadata": {
            "tags": [],
            "needs_background": "light"
          }
        }
      ]
    },
    {
      "cell_type": "code",
      "metadata": {
        "id": "xO-p2ochmmIH"
      },
      "source": [
        "df_dec50['No_of_lf_Hurricanes']\r\n",
        "df_dec50['mean_ws_at_lf']"
      ],
      "execution_count": null,
      "outputs": []
    },
    {
      "cell_type": "code",
      "metadata": {
        "id": "iuLUHYVGOYZd"
      },
      "source": [
        "sns.lmplot(x='No_of_lf_Hurricanes', y='mean_ws_at_lf',data=df_dec50, ci=95)\r\n"
      ],
      "execution_count": null,
      "outputs": []
    },
    {
      "cell_type": "code",
      "metadata": {
        "id": "DwcRZwSZ3NMD"
      },
      "source": [
        ""
      ],
      "execution_count": null,
      "outputs": []
    },
    {
      "cell_type": "code",
      "metadata": {
        "id": "GCRSXBjXqO96"
      },
      "source": [
        "df_dec501950=df_dec50.loc[df_dec50['dec']>=195]\r\n",
        "df_dec501950.head()\r\n",
        "sns.lmplot(x='No_of_Hurricanes', y='mean_min_press',data=df_dec501950, ci=95)\r\n"
      ],
      "execution_count": null,
      "outputs": []
    },
    {
      "cell_type": "code",
      "metadata": {
        "id": "PI12DenxqbQy"
      },
      "source": [
        "\r\n",
        "sns.lmplot(x='No_of_Hurricanes', y='mean_of_ws',data=df_dec50, ci=95)"
      ],
      "execution_count": null,
      "outputs": []
    },
    {
      "cell_type": "code",
      "metadata": {
        "id": "kd-YltyNFuig"
      },
      "source": [
        "from statsmodels.formula.api import ols\r\n",
        "model=ols('max_wind ~ dec', data=df_dec50).fit()\r\n",
        "print(model.summary())"
      ],
      "execution_count": null,
      "outputs": []
    },
    {
      "cell_type": "code",
      "metadata": {
        "id": "_aEEJPWgRMFT"
      },
      "source": [
        "from statsmodels.formula.api import ols\r\n",
        "model=ols('No_of_Hurricanes ~ dec', data=df_dec50).fit()\r\n",
        "print(model.summary())"
      ],
      "execution_count": null,
      "outputs": []
    }
  ]
}